{
 "cells": [
  {
   "cell_type": "code",
   "execution_count": null,
   "metadata": {},
   "outputs": [],
   "source": [
    "from functions import HaggisWhiskey\n",
    "sample = HaggisWhiskey()"
   ]
  },
  {
   "cell_type": "code",
   "execution_count": null,
   "metadata": {},
   "outputs": [],
   "source": [
    "## plot suppliers, warehouses, customers locations: \n",
    "sample.plot_geographical_nodes()"
   ]
  },
  {
   "cell_type": "code",
   "execution_count": null,
   "metadata": {},
   "outputs": [],
   "source": [
    "## plot heat map (black and white):\n",
    "sample.plot_heat_map_bw(sample.lat_demand, sample.lon_demand, sample.postcode)"
   ]
  },
  {
   "cell_type": "code",
   "execution_count": null,
   "metadata": {},
   "outputs": [],
   "source": [
    "## plot heat map (colour):\n",
    "#base_map = sample.plot_heat_map_colour(sample.lat_supplier, sample.lon_supplier, sample.supplier, 'Production volume')\n",
    "#base_map = sample.plot_heat_map_colour(sample.lat_demand, sample.lon_demand, sample.postcode, 'Group 1')\n",
    "#base_map = sample.plot_heat_map_colour(sample.lat_demand, sample.lon_demand, sample.postcode, 'Group 2')\n",
    "base_map = sample.plot_heat_map_colour(sample.lat_demand, sample.lon_demand, sample.postcode, 'Group 3')\n",
    "#base_map = sample.plot_heat_map_colour(sample.lat_demand, sample.lon_demand, sample.postcode, 'Group 4')\n",
    "\n",
    "base_map"
   ]
  }
 ],
 "metadata": {
  "language_info": {
   "name": "python"
  },
  "orig_nbformat": 4
 },
 "nbformat": 4,
 "nbformat_minor": 2
}
